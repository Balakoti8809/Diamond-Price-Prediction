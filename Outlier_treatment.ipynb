{
 "cells": [
  {
   "cell_type": "code",
   "execution_count": 45,
   "metadata": {},
   "outputs": [],
   "source": [
    "import numpy as np\n",
    "import pandas as pd\n",
    "import matplotlib.pyplot as plt\n",
    "import seaborn as sns"
   ]
  },
  {
   "cell_type": "code",
   "execution_count": 46,
   "metadata": {},
   "outputs": [
    {
     "data": {
      "text/html": [
       "<div>\n",
       "<style scoped>\n",
       "    .dataframe tbody tr th:only-of-type {\n",
       "        vertical-align: middle;\n",
       "    }\n",
       "\n",
       "    .dataframe tbody tr th {\n",
       "        vertical-align: top;\n",
       "    }\n",
       "\n",
       "    .dataframe thead th {\n",
       "        text-align: right;\n",
       "    }\n",
       "</style>\n",
       "<table border=\"1\" class=\"dataframe\">\n",
       "  <thead>\n",
       "    <tr style=\"text-align: right;\">\n",
       "      <th></th>\n",
       "      <th>Carat(Weight of Daimond)</th>\n",
       "      <th>Cut(Quality)</th>\n",
       "      <th>Color</th>\n",
       "      <th>Clarity</th>\n",
       "      <th>Depth</th>\n",
       "      <th>Table</th>\n",
       "      <th>Price(in US dollars)</th>\n",
       "      <th>X(length)</th>\n",
       "      <th>Y(width)</th>\n",
       "      <th>Z(Depth)</th>\n",
       "    </tr>\n",
       "  </thead>\n",
       "  <tbody>\n",
       "    <tr>\n",
       "      <th>0</th>\n",
       "      <td>0.23</td>\n",
       "      <td>Ideal</td>\n",
       "      <td>E</td>\n",
       "      <td>SI2</td>\n",
       "      <td>61.5</td>\n",
       "      <td>55.0</td>\n",
       "      <td>326</td>\n",
       "      <td>3.95</td>\n",
       "      <td>3.98</td>\n",
       "      <td>2.43</td>\n",
       "    </tr>\n",
       "    <tr>\n",
       "      <th>1</th>\n",
       "      <td>0.21</td>\n",
       "      <td>Premium</td>\n",
       "      <td>E</td>\n",
       "      <td>SI1</td>\n",
       "      <td>59.8</td>\n",
       "      <td>61.0</td>\n",
       "      <td>326</td>\n",
       "      <td>3.89</td>\n",
       "      <td>3.84</td>\n",
       "      <td>2.31</td>\n",
       "    </tr>\n",
       "    <tr>\n",
       "      <th>2</th>\n",
       "      <td>0.23</td>\n",
       "      <td>Good</td>\n",
       "      <td>E</td>\n",
       "      <td>VS1</td>\n",
       "      <td>56.9</td>\n",
       "      <td>65.0</td>\n",
       "      <td>327</td>\n",
       "      <td>4.05</td>\n",
       "      <td>4.07</td>\n",
       "      <td>2.31</td>\n",
       "    </tr>\n",
       "    <tr>\n",
       "      <th>3</th>\n",
       "      <td>0.29</td>\n",
       "      <td>Premium</td>\n",
       "      <td>I</td>\n",
       "      <td>VS2</td>\n",
       "      <td>62.4</td>\n",
       "      <td>58.0</td>\n",
       "      <td>334</td>\n",
       "      <td>4.20</td>\n",
       "      <td>4.23</td>\n",
       "      <td>2.63</td>\n",
       "    </tr>\n",
       "    <tr>\n",
       "      <th>4</th>\n",
       "      <td>0.31</td>\n",
       "      <td>Good</td>\n",
       "      <td>J</td>\n",
       "      <td>SI2</td>\n",
       "      <td>63.3</td>\n",
       "      <td>58.0</td>\n",
       "      <td>335</td>\n",
       "      <td>4.34</td>\n",
       "      <td>4.35</td>\n",
       "      <td>2.75</td>\n",
       "    </tr>\n",
       "  </tbody>\n",
       "</table>\n",
       "</div>"
      ],
      "text/plain": [
       "   Carat(Weight of Daimond) Cut(Quality) Color Clarity  Depth  Table  \\\n",
       "0                      0.23        Ideal     E     SI2   61.5   55.0   \n",
       "1                      0.21      Premium     E     SI1   59.8   61.0   \n",
       "2                      0.23         Good     E     VS1   56.9   65.0   \n",
       "3                      0.29      Premium     I     VS2   62.4   58.0   \n",
       "4                      0.31         Good     J     SI2   63.3   58.0   \n",
       "\n",
       "   Price(in US dollars)  X(length)  Y(width)  Z(Depth)  \n",
       "0                   326       3.95      3.98      2.43  \n",
       "1                   326       3.89      3.84      2.31  \n",
       "2                   327       4.05      4.07      2.31  \n",
       "3                   334       4.20      4.23      2.63  \n",
       "4                   335       4.34      4.35      2.75  "
      ]
     },
     "execution_count": 46,
     "metadata": {},
     "output_type": "execute_result"
    }
   ],
   "source": [
    "df = pd.read_csv(\"Diamond Price Prediction.csv\")\n",
    "df.head()"
   ]
  },
  {
   "cell_type": "code",
   "execution_count": 47,
   "metadata": {},
   "outputs": [
    {
     "name": "stdout",
     "output_type": "stream",
     "text": [
      "IQR :-  1.5\n",
      "Lower Bound:- 58.75\n",
      "Upper Bound:- 64.75\n",
      "Skewness of the depth is :- -0.08229402630189467\n",
      "Kurtosis of the depth is :-  5.739414582329394\n"
     ]
    }
   ],
   "source": [
    "Q1 = df[\"Depth\"].quantile(.25)\n",
    "Q3 = df[\"Depth\"].quantile(.75)\n",
    "\n",
    "IQR = Q3 - Q1\n",
    "print(\"IQR :- \", IQR)\n",
    "print(\"Lower Bound:-\", Q1 - IQR * 1.5)\n",
    "print(\"Upper Bound:-\", Q3 + IQR * 1.5)\n",
    "print(\"Skewness of the depth is :-\", df[\"Depth\"].skew())\n",
    "print(\"Kurtosis of the depth is :- \", df[\"Depth\"].kurt())"
   ]
  },
  {
   "cell_type": "code",
   "execution_count": 48,
   "metadata": {},
   "outputs": [
    {
     "name": "stdout",
     "output_type": "stream",
     "text": [
      "(2545, 10)\n"
     ]
    },
    {
     "data": {
      "text/plain": [
       "count    2545.000000\n",
       "mean       61.204794\n",
       "std         4.243940\n",
       "min        43.000000\n",
       "25%        58.000000\n",
       "50%        58.600000\n",
       "75%        65.400000\n",
       "max        79.000000\n",
       "Name: Depth, dtype: float64"
      ]
     },
     "execution_count": 48,
     "metadata": {},
     "output_type": "execute_result"
    }
   ],
   "source": [
    "Outliers_depth = df[(df[\"Depth\"] < Q1 - 1.5*IQR) | (df[\"Depth\"] > Q3 + 1.5*IQR)]\n",
    "print(Outliers_depth.shape)\n",
    "Outliers_depth[\"Depth\"].describe()"
   ]
  },
  {
   "cell_type": "code",
   "execution_count": 49,
   "metadata": {},
   "outputs": [
    {
     "name": "stdout",
     "output_type": "stream",
     "text": [
      "IQR :-  3.0\n",
      "Lower Bound:- 51.5\n",
      "Upper Bound:- 63.5\n",
      "Skewness of the depth is :- 0.7968958486695427\n",
      "Kurtosis of the depth is :-  2.801856860032039\n"
     ]
    }
   ],
   "source": [
    "Q1 = df[\"Table\"].quantile(.25)\n",
    "Q3 = df[\"Table\"].quantile(.75)\n",
    "\n",
    "IQR = Q3 - Q1\n",
    "print(\"IQR :- \", IQR)\n",
    "print(\"Lower Bound:-\", Q1 - IQR * 1.5)\n",
    "print(\"Upper Bound:-\", Q3 + IQR * 1.5)\n",
    "print(\"Skewness of the depth is :-\", df[\"Table\"].skew())\n",
    "print(\"Kurtosis of the depth is :- \", df[\"Table\"].kurt())"
   ]
  },
  {
   "cell_type": "code",
   "execution_count": 50,
   "metadata": {},
   "outputs": [
    {
     "name": "stdout",
     "output_type": "stream",
     "text": [
      "(605, 10)\n"
     ]
    },
    {
     "data": {
      "text/plain": [
       "count    605.000000\n",
       "mean      64.842975\n",
       "std        3.266675\n",
       "min       43.000000\n",
       "25%       64.000000\n",
       "50%       65.000000\n",
       "75%       66.000000\n",
       "max       95.000000\n",
       "Name: Table, dtype: float64"
      ]
     },
     "execution_count": 50,
     "metadata": {},
     "output_type": "execute_result"
    }
   ],
   "source": [
    "Outliers_table = df[(df[\"Table\"] < Q1 - 1.5*IQR) | (df[\"Table\"] > Q3 + 1.5*IQR)]\n",
    "print(Outliers_table .shape)\n",
    "Outliers_table[\"Table\"].describe()"
   ]
  },
  {
   "cell_type": "code",
   "execution_count": 51,
   "metadata": {},
   "outputs": [
    {
     "name": "stdout",
     "output_type": "stream",
     "text": [
      "IQR :-  4374.25\n",
      "Lower Bound:- -5611.375\n",
      "Upper Bound:- 11885.625\n",
      "Skewness of the depth is :- 1.618395283383529\n",
      "Kurtosis of the depth is :-  2.17769575924869\n"
     ]
    }
   ],
   "source": [
    "Q1 = df[\"Price(in US dollars)\"].quantile(.25)\n",
    "Q3 = df[\"Price(in US dollars)\"].quantile(.75)\n",
    "\n",
    "IQR = Q3 - Q1\n",
    "print(\"IQR :- \", IQR)\n",
    "print(\"Lower Bound:-\", Q1 - IQR * 1.5)\n",
    "print(\"Upper Bound:-\", Q3 + IQR * 1.5)\n",
    "print(\"Skewness of the depth is :-\", df[\"Price(in US dollars)\"].skew())\n",
    "print(\"Kurtosis of the depth is :- \", df[\"Price(in US dollars)\"].kurt())"
   ]
  },
  {
   "cell_type": "code",
   "execution_count": 52,
   "metadata": {},
   "outputs": [
    {
     "name": "stdout",
     "output_type": "stream",
     "text": [
      "(3540, 10)\n"
     ]
    },
    {
     "data": {
      "text/plain": [
       "count     3540.000000\n",
       "mean     14943.048305\n",
       "std       1986.430051\n",
       "min      11886.000000\n",
       "25%      13170.500000\n",
       "50%      14731.500000\n",
       "75%      16616.250000\n",
       "max      18823.000000\n",
       "Name: Price(in US dollars), dtype: float64"
      ]
     },
     "execution_count": 52,
     "metadata": {},
     "output_type": "execute_result"
    }
   ],
   "source": [
    "Outliers_price= df[(df[\"Price(in US dollars)\"] < Q1 - 1.5*IQR) | (df[\"Price(in US dollars)\"] > Q3 + 1.5*IQR)]\n",
    "print(Outliers_price.shape)\n",
    "Outliers_price[\"Price(in US dollars)\"].describe()"
   ]
  },
  {
   "cell_type": "code",
   "execution_count": 53,
   "metadata": {},
   "outputs": [
    {
     "data": {
      "text/plain": [
       "(3540, 10)"
      ]
     },
     "execution_count": 53,
     "metadata": {},
     "output_type": "execute_result"
    }
   ],
   "source": [
    "Outliers_price.shape"
   ]
  },
  {
   "cell_type": "code",
   "execution_count": 54,
   "metadata": {},
   "outputs": [
    {
     "data": {
      "text/plain": [
       "(605, 10)"
      ]
     },
     "execution_count": 54,
     "metadata": {},
     "output_type": "execute_result"
    }
   ],
   "source": [
    "Outliers_table.shape"
   ]
  },
  {
   "cell_type": "code",
   "execution_count": 55,
   "metadata": {},
   "outputs": [
    {
     "data": {
      "text/plain": [
       "Index([    2,     8,    24,    35,    42,    43,    84,    91,    95,    97,\n",
       "       ...\n",
       "       53756, 53757, 53800, 53863, 53879, 53882, 53886, 53890, 53895, 53927],\n",
       "      dtype='int64', length=2545)"
      ]
     },
     "execution_count": 55,
     "metadata": {},
     "output_type": "execute_result"
    }
   ],
   "source": [
    "Outliers_depth.index"
   ]
  },
  {
   "cell_type": "code",
   "execution_count": null,
   "metadata": {},
   "outputs": [],
   "source": []
  }
 ],
 "metadata": {
  "kernelspec": {
   "display_name": "Python 3",
   "language": "python",
   "name": "python3"
  },
  "language_info": {
   "codemirror_mode": {
    "name": "ipython",
    "version": 3
   },
   "file_extension": ".py",
   "mimetype": "text/x-python",
   "name": "python",
   "nbconvert_exporter": "python",
   "pygments_lexer": "ipython3",
   "version": "3.10.15"
  }
 },
 "nbformat": 4,
 "nbformat_minor": 2
}
